{
 "cells": [
  {
   "cell_type": "code",
   "execution_count": 1,
   "metadata": {},
   "outputs": [],
   "source": [
    "import pandas as pd  # as 는 pandas를 더 쉽게 불러올 수 있도록 간단한 별명을붙여주는 것. 쉬프트 + 엔터 = 실행"
   ]
  },
  {
   "cell_type": "code",
   "execution_count": 2,
   "metadata": {},
   "outputs": [],
   "source": [
    "import numpy as np # numpy 는 여러 가지 통계 툴"
   ]
  },
  {
   "cell_type": "code",
   "execution_count": 3,
   "metadata": {},
   "outputs": [],
   "source": [
    "s = pd.Series([1,2,3,4,5])   # Series = R 에서의 C함수와 같은 기능을 한다. 여러 가지 값들을 넣을 때 사용"
   ]
  },
  {
   "cell_type": "code",
   "execution_count": 4,
   "metadata": {},
   "outputs": [
    {
     "name": "stdout",
     "output_type": "stream",
     "text": [
      "0    1\n",
      "1    2\n",
      "2    3\n",
      "3    4\n",
      "4    5\n",
      "dtype: int64\n"
     ]
    }
   ],
   "source": [
    "print(s)"
   ]
  },
  {
   "cell_type": "code",
   "execution_count": 6,
   "metadata": {},
   "outputs": [
    {
     "data": {
      "text/plain": [
       "0    1\n",
       "1    2\n",
       "2    3\n",
       "3    4\n",
       "4    5\n",
       "dtype: int64"
      ]
     },
     "execution_count": 6,
     "metadata": {},
     "output_type": "execute_result"
    }
   ],
   "source": [
    "s"
   ]
  },
  {
   "cell_type": "code",
   "execution_count": 7,
   "metadata": {},
   "outputs": [],
   "source": [
    "dates = pd.date_range('2013-01-03' , periods = 6) # 판다스 모듈 안의 date_range -> 날짜의 리스트를 임의로 만들어 낼 수 있는 함수\n",
    "# 2013-01-03부터 6일간의 날짜를 리스트로 만든다. 데이터 타입은 datetime 이라는 데이터형."
   ]
  },
  {
   "cell_type": "code",
   "execution_count": 8,
   "metadata": {},
   "outputs": [
    {
     "data": {
      "text/plain": [
       "DatetimeIndex(['2013-01-03', '2013-01-04', '2013-01-05', '2013-01-06',\n",
       "               '2013-01-07', '2013-01-08'],\n",
       "              dtype='datetime64[ns]', freq='D')"
      ]
     },
     "execution_count": 8,
     "metadata": {},
     "output_type": "execute_result"
    }
   ],
   "source": [
    "dates"
   ]
  },
  {
   "cell_type": "code",
   "execution_count": 10,
   "metadata": {},
   "outputs": [
    {
     "data": {
      "text/plain": [
       "array([[ 2.05006517, -0.45247728],\n",
       "       [ 0.20082647, -1.26855692],\n",
       "       [ 1.89534482,  0.18920796],\n",
       "       [-0.48308431,  0.26520035],\n",
       "       [ 0.01679264, -0.18241944],\n",
       "       [-0.44993452,  1.33223961]])"
      ]
     },
     "execution_count": 10,
     "metadata": {},
     "output_type": "execute_result"
    }
   ],
   "source": [
    "np.random.randn(6,2)  # numpy 안에 있는 함수들 중 랜덤한 값을 불러오는 함수. 첫번째는 열, 두번째는 행의 갯수를 의미한다."
   ]
  },
  {
   "cell_type": "code",
   "execution_count": 14,
   "metadata": {},
   "outputs": [],
   "source": [
    "df = pd.DataFrame(np.random.randn(6,4) , index = dates , columns=['A' , 'B' , 'C' , 'D']) # 데이터프레임의 함수. 인덱스는 세로열의 벡터, \n",
    "#columns 는 가로의 벡터를 의미한다."
   ]
  },
  {
   "cell_type": "code",
   "execution_count": 16,
   "metadata": {},
   "outputs": [
    {
     "data": {
      "text/html": [
       "<div>\n",
       "<style scoped>\n",
       "    .dataframe tbody tr th:only-of-type {\n",
       "        vertical-align: middle;\n",
       "    }\n",
       "\n",
       "    .dataframe tbody tr th {\n",
       "        vertical-align: top;\n",
       "    }\n",
       "\n",
       "    .dataframe thead th {\n",
       "        text-align: right;\n",
       "    }\n",
       "</style>\n",
       "<table border=\"1\" class=\"dataframe\">\n",
       "  <thead>\n",
       "    <tr style=\"text-align: right;\">\n",
       "      <th></th>\n",
       "      <th>A</th>\n",
       "      <th>B</th>\n",
       "      <th>C</th>\n",
       "      <th>D</th>\n",
       "    </tr>\n",
       "  </thead>\n",
       "  <tbody>\n",
       "    <tr>\n",
       "      <th>2013-01-03</th>\n",
       "      <td>0.024216</td>\n",
       "      <td>0.568722</td>\n",
       "      <td>1.824232</td>\n",
       "      <td>0.696969</td>\n",
       "    </tr>\n",
       "    <tr>\n",
       "      <th>2013-01-04</th>\n",
       "      <td>-0.195303</td>\n",
       "      <td>-0.695710</td>\n",
       "      <td>-1.666282</td>\n",
       "      <td>-1.054320</td>\n",
       "    </tr>\n",
       "    <tr>\n",
       "      <th>2013-01-05</th>\n",
       "      <td>1.128366</td>\n",
       "      <td>-0.515619</td>\n",
       "      <td>0.798882</td>\n",
       "      <td>-0.231195</td>\n",
       "    </tr>\n",
       "  </tbody>\n",
       "</table>\n",
       "</div>"
      ],
      "text/plain": [
       "                   A         B         C         D\n",
       "2013-01-03  0.024216  0.568722  1.824232  0.696969\n",
       "2013-01-04 -0.195303 -0.695710 -1.666282 -1.054320\n",
       "2013-01-05  1.128366 -0.515619  0.798882 -0.231195"
      ]
     },
     "execution_count": 16,
     "metadata": {},
     "output_type": "execute_result"
    }
   ],
   "source": [
    "df.head(3)"
   ]
  },
  {
   "cell_type": "code",
   "execution_count": 17,
   "metadata": {},
   "outputs": [
    {
     "data": {
      "text/plain": [
       "DatetimeIndex(['2013-01-03', '2013-01-04', '2013-01-05', '2013-01-06',\n",
       "               '2013-01-07', '2013-01-08'],\n",
       "              dtype='datetime64[ns]', freq='D')"
      ]
     },
     "execution_count": 17,
     "metadata": {},
     "output_type": "execute_result"
    }
   ],
   "source": [
    "df.index"
   ]
  },
  {
   "cell_type": "code",
   "execution_count": 18,
   "metadata": {},
   "outputs": [
    {
     "data": {
      "text/plain": [
       "Index(['A', 'B', 'C', 'D'], dtype='object')"
      ]
     },
     "execution_count": 18,
     "metadata": {},
     "output_type": "execute_result"
    }
   ],
   "source": [
    "df.columns"
   ]
  },
  {
   "cell_type": "code",
   "execution_count": 19,
   "metadata": {},
   "outputs": [
    {
     "data": {
      "text/plain": [
       "array([[ 0.02421603,  0.56872196,  1.82423206,  0.69696938],\n",
       "       [-0.19530347, -0.69570986, -1.66628191, -1.05431974],\n",
       "       [ 1.1283656 , -0.51561881,  0.7988819 , -0.23119497],\n",
       "       [ 1.37628497, -0.57706318, -0.45429288,  0.0802393 ],\n",
       "       [ 0.80046815, -0.69446618,  0.36925309,  1.37034223],\n",
       "       [-2.15478837,  0.55577142, -0.46810567, -0.30228041]])"
      ]
     },
     "execution_count": 19,
     "metadata": {},
     "output_type": "execute_result"
    }
   ],
   "source": [
    "df.values"
   ]
  },
  {
   "cell_type": "code",
   "execution_count": 23,
   "metadata": {},
   "outputs": [
    {
     "name": "stdout",
     "output_type": "stream",
     "text": [
      "<class 'pandas.core.frame.DataFrame'>\n",
      "DatetimeIndex: 6 entries, 2013-01-03 to 2013-01-08\n",
      "Freq: D\n",
      "Data columns (total 4 columns):\n",
      "A    6 non-null float64\n",
      "B    6 non-null float64\n",
      "C    6 non-null float64\n",
      "D    6 non-null float64\n",
      "dtypes: float64(4)\n",
      "memory usage: 240.0 bytes\n"
     ]
    }
   ],
   "source": [
    "df.info()"
   ]
  },
  {
   "cell_type": "code",
   "execution_count": 22,
   "metadata": {},
   "outputs": [
    {
     "data": {
      "text/html": [
       "<div>\n",
       "<style scoped>\n",
       "    .dataframe tbody tr th:only-of-type {\n",
       "        vertical-align: middle;\n",
       "    }\n",
       "\n",
       "    .dataframe tbody tr th {\n",
       "        vertical-align: top;\n",
       "    }\n",
       "\n",
       "    .dataframe thead th {\n",
       "        text-align: right;\n",
       "    }\n",
       "</style>\n",
       "<table border=\"1\" class=\"dataframe\">\n",
       "  <thead>\n",
       "    <tr style=\"text-align: right;\">\n",
       "      <th></th>\n",
       "      <th>A</th>\n",
       "      <th>B</th>\n",
       "      <th>C</th>\n",
       "      <th>D</th>\n",
       "    </tr>\n",
       "  </thead>\n",
       "  <tbody>\n",
       "    <tr>\n",
       "      <th>count</th>\n",
       "      <td>6.000000</td>\n",
       "      <td>6.000000</td>\n",
       "      <td>6.000000</td>\n",
       "      <td>6.000000</td>\n",
       "    </tr>\n",
       "    <tr>\n",
       "      <th>mean</th>\n",
       "      <td>0.163207</td>\n",
       "      <td>-0.226394</td>\n",
       "      <td>0.067281</td>\n",
       "      <td>0.093293</td>\n",
       "    </tr>\n",
       "    <tr>\n",
       "      <th>std</th>\n",
       "      <td>1.290747</td>\n",
       "      <td>0.614811</td>\n",
       "      <td>1.206418</td>\n",
       "      <td>0.845486</td>\n",
       "    </tr>\n",
       "    <tr>\n",
       "      <th>min</th>\n",
       "      <td>-2.154788</td>\n",
       "      <td>-0.695710</td>\n",
       "      <td>-1.666282</td>\n",
       "      <td>-1.054320</td>\n",
       "    </tr>\n",
       "    <tr>\n",
       "      <th>25%</th>\n",
       "      <td>-0.140424</td>\n",
       "      <td>-0.665115</td>\n",
       "      <td>-0.464652</td>\n",
       "      <td>-0.284509</td>\n",
       "    </tr>\n",
       "    <tr>\n",
       "      <th>50%</th>\n",
       "      <td>0.412342</td>\n",
       "      <td>-0.546341</td>\n",
       "      <td>-0.042520</td>\n",
       "      <td>-0.075478</td>\n",
       "    </tr>\n",
       "    <tr>\n",
       "      <th>75%</th>\n",
       "      <td>1.046391</td>\n",
       "      <td>0.287924</td>\n",
       "      <td>0.691475</td>\n",
       "      <td>0.542787</td>\n",
       "    </tr>\n",
       "    <tr>\n",
       "      <th>max</th>\n",
       "      <td>1.376285</td>\n",
       "      <td>0.568722</td>\n",
       "      <td>1.824232</td>\n",
       "      <td>1.370342</td>\n",
       "    </tr>\n",
       "  </tbody>\n",
       "</table>\n",
       "</div>"
      ],
      "text/plain": [
       "              A         B         C         D\n",
       "count  6.000000  6.000000  6.000000  6.000000\n",
       "mean   0.163207 -0.226394  0.067281  0.093293\n",
       "std    1.290747  0.614811  1.206418  0.845486\n",
       "min   -2.154788 -0.695710 -1.666282 -1.054320\n",
       "25%   -0.140424 -0.665115 -0.464652 -0.284509\n",
       "50%    0.412342 -0.546341 -0.042520 -0.075478\n",
       "75%    1.046391  0.287924  0.691475  0.542787\n",
       "max    1.376285  0.568722  1.824232  1.370342"
      ]
     },
     "execution_count": 22,
     "metadata": {},
     "output_type": "execute_result"
    }
   ],
   "source": [
    "df.describe()"
   ]
  },
  {
   "cell_type": "code",
   "execution_count": 25,
   "metadata": {},
   "outputs": [
    {
     "data": {
      "text/html": [
       "<div>\n",
       "<style scoped>\n",
       "    .dataframe tbody tr th:only-of-type {\n",
       "        vertical-align: middle;\n",
       "    }\n",
       "\n",
       "    .dataframe tbody tr th {\n",
       "        vertical-align: top;\n",
       "    }\n",
       "\n",
       "    .dataframe thead th {\n",
       "        text-align: right;\n",
       "    }\n",
       "</style>\n",
       "<table border=\"1\" class=\"dataframe\">\n",
       "  <thead>\n",
       "    <tr style=\"text-align: right;\">\n",
       "      <th></th>\n",
       "      <th>A</th>\n",
       "      <th>B</th>\n",
       "      <th>C</th>\n",
       "      <th>D</th>\n",
       "    </tr>\n",
       "  </thead>\n",
       "  <tbody>\n",
       "    <tr>\n",
       "      <th>2013-01-03</th>\n",
       "      <td>0.024216</td>\n",
       "      <td>0.568722</td>\n",
       "      <td>1.824232</td>\n",
       "      <td>0.696969</td>\n",
       "    </tr>\n",
       "    <tr>\n",
       "      <th>2013-01-08</th>\n",
       "      <td>-2.154788</td>\n",
       "      <td>0.555771</td>\n",
       "      <td>-0.468106</td>\n",
       "      <td>-0.302280</td>\n",
       "    </tr>\n",
       "    <tr>\n",
       "      <th>2013-01-05</th>\n",
       "      <td>1.128366</td>\n",
       "      <td>-0.515619</td>\n",
       "      <td>0.798882</td>\n",
       "      <td>-0.231195</td>\n",
       "    </tr>\n",
       "    <tr>\n",
       "      <th>2013-01-06</th>\n",
       "      <td>1.376285</td>\n",
       "      <td>-0.577063</td>\n",
       "      <td>-0.454293</td>\n",
       "      <td>0.080239</td>\n",
       "    </tr>\n",
       "    <tr>\n",
       "      <th>2013-01-07</th>\n",
       "      <td>0.800468</td>\n",
       "      <td>-0.694466</td>\n",
       "      <td>0.369253</td>\n",
       "      <td>1.370342</td>\n",
       "    </tr>\n",
       "    <tr>\n",
       "      <th>2013-01-04</th>\n",
       "      <td>-0.195303</td>\n",
       "      <td>-0.695710</td>\n",
       "      <td>-1.666282</td>\n",
       "      <td>-1.054320</td>\n",
       "    </tr>\n",
       "  </tbody>\n",
       "</table>\n",
       "</div>"
      ],
      "text/plain": [
       "                   A         B         C         D\n",
       "2013-01-03  0.024216  0.568722  1.824232  0.696969\n",
       "2013-01-08 -2.154788  0.555771 -0.468106 -0.302280\n",
       "2013-01-05  1.128366 -0.515619  0.798882 -0.231195\n",
       "2013-01-06  1.376285 -0.577063 -0.454293  0.080239\n",
       "2013-01-07  0.800468 -0.694466  0.369253  1.370342\n",
       "2013-01-04 -0.195303 -0.695710 -1.666282 -1.054320"
      ]
     },
     "execution_count": 25,
     "metadata": {},
     "output_type": "execute_result"
    }
   ],
   "source": [
    "df.sort_values(by = 'B', ascending= False)  # 특정한 column의 기준으로 sort 하는 함수. True는 오름차순, False는 내림차순이다."
   ]
  },
  {
   "cell_type": "code",
   "execution_count": 26,
   "metadata": {},
   "outputs": [
    {
     "data": {
      "text/plain": [
       "2013-01-03    0.024216\n",
       "2013-01-04   -0.195303\n",
       "2013-01-05    1.128366\n",
       "2013-01-06    1.376285\n",
       "2013-01-07    0.800468\n",
       "2013-01-08   -2.154788\n",
       "Freq: D, Name: A, dtype: float64"
      ]
     },
     "execution_count": 26,
     "metadata": {},
     "output_type": "execute_result"
    }
   ],
   "source": [
    "df['A'] # 특정 컬럼만 가지고 오는 함수"
   ]
  },
  {
   "cell_type": "code",
   "execution_count": 31,
   "metadata": {},
   "outputs": [
    {
     "data": {
      "text/html": [
       "<div>\n",
       "<style scoped>\n",
       "    .dataframe tbody tr th:only-of-type {\n",
       "        vertical-align: middle;\n",
       "    }\n",
       "\n",
       "    .dataframe tbody tr th {\n",
       "        vertical-align: top;\n",
       "    }\n",
       "\n",
       "    .dataframe thead th {\n",
       "        text-align: right;\n",
       "    }\n",
       "</style>\n",
       "<table border=\"1\" class=\"dataframe\">\n",
       "  <thead>\n",
       "    <tr style=\"text-align: right;\">\n",
       "      <th></th>\n",
       "      <th>A</th>\n",
       "      <th>B</th>\n",
       "      <th>C</th>\n",
       "      <th>D</th>\n",
       "    </tr>\n",
       "  </thead>\n",
       "  <tbody>\n",
       "    <tr>\n",
       "      <th>2013-01-03</th>\n",
       "      <td>0.024216</td>\n",
       "      <td>0.568722</td>\n",
       "      <td>1.824232</td>\n",
       "      <td>0.696969</td>\n",
       "    </tr>\n",
       "    <tr>\n",
       "      <th>2013-01-04</th>\n",
       "      <td>-0.195303</td>\n",
       "      <td>-0.695710</td>\n",
       "      <td>-1.666282</td>\n",
       "      <td>-1.054320</td>\n",
       "    </tr>\n",
       "    <tr>\n",
       "      <th>2013-01-05</th>\n",
       "      <td>1.128366</td>\n",
       "      <td>-0.515619</td>\n",
       "      <td>0.798882</td>\n",
       "      <td>-0.231195</td>\n",
       "    </tr>\n",
       "  </tbody>\n",
       "</table>\n",
       "</div>"
      ],
      "text/plain": [
       "                   A         B         C         D\n",
       "2013-01-03  0.024216  0.568722  1.824232  0.696969\n",
       "2013-01-04 -0.195303 -0.695710 -1.666282 -1.054320\n",
       "2013-01-05  1.128366 -0.515619  0.798882 -0.231195"
      ]
     },
     "execution_count": 31,
     "metadata": {},
     "output_type": "execute_result"
    }
   ],
   "source": [
    "df[0:3]"
   ]
  },
  {
   "cell_type": "code",
   "execution_count": null,
   "metadata": {},
   "outputs": [],
   "source": []
  }
 ],
 "metadata": {
  "kernelspec": {
   "display_name": "Python 3",
   "language": "python",
   "name": "python3"
  },
  "language_info": {
   "codemirror_mode": {
    "name": "ipython",
    "version": 3
   },
   "file_extension": ".py",
   "mimetype": "text/x-python",
   "name": "python",
   "nbconvert_exporter": "python",
   "pygments_lexer": "ipython3",
   "version": "3.7.0"
  }
 },
 "nbformat": 4,
 "nbformat_minor": 2
}
