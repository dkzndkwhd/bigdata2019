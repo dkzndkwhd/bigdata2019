{
 "cells": [
  {
   "cell_type": "code",
   "execution_count": 16,
   "metadata": {},
   "outputs": [],
   "source": [
    "# 인터넷 연결이 먼저\n",
    "# html 문서를 받아 와서 분석\n",
    "\n",
    "import urllib\n",
    "# or\n",
    "import requests\n",
    "from bs4 import BeautifulSoup # bs4 라이브러리 중에서 부티풀숩만 가져온다. "
   ]
  },
  {
   "cell_type": "code",
   "execution_count": 2,
   "metadata": {},
   "outputs": [],
   "source": [
    "# 함수로 모듈화해보자"
   ]
  },
  {
   "cell_type": "code",
   "execution_count": 20,
   "metadata": {},
   "outputs": [],
   "source": [
    "def get_price(company_code) :\n",
    "    url = \"https://finance.naver.com/item/main.nhn?code=\" + company_code\n",
    "    print(\"url : \",url )\n",
    "    \n",
    "    result = requests.get(url)\n",
    "    #print(\"result :\" , result)\n",
    "    \n",
    "    bs_obj = BeautifulSoup(result.content , \"html.parser\")\n",
    "    #print(\"html : \" , bs_obj)\n",
    "    \n",
    "    no_today = bs_obj.find(\"p\" , {\"class\" :  \"no_today\"})\n",
    "    \n",
    "    blind_now = no_today.find(\"span\" , {\"class\" : \"blind\"})\n",
    "    \n",
    "    print(\"최종 결과값 :\" , blind_now.text)\n",
    "    \n",
    "    \n",
    "    \n",
    "    \n",
    "    "
   ]
  },
  {
   "cell_type": "code",
   "execution_count": 23,
   "metadata": {},
   "outputs": [
    {
     "name": "stdout",
     "output_type": "stream",
     "text": [
      "url :  https://finance.naver.com/item/main.nhn?code=043150\n",
      "최종 결과값 : 23,250\n"
     ]
    }
   ],
   "source": [
    "get_price(\"043150\")"
   ]
  },
  {
   "cell_type": "code",
   "execution_count": 24,
   "metadata": {},
   "outputs": [
    {
     "ename": "NameError",
     "evalue": "name 'dd' is not defined",
     "output_type": "error",
     "traceback": [
      "\u001b[1;31m---------------------------------------------------------------------------\u001b[0m",
      "\u001b[1;31mNameError\u001b[0m                                 Traceback (most recent call last)",
      "\u001b[1;32m<ipython-input-24-06f342d4bc0b>\u001b[0m in \u001b[0;36m<module>\u001b[1;34m()\u001b[0m\n\u001b[1;32m----> 1\u001b[1;33m \u001b[0mdd\u001b[0m\u001b[1;33m\u001b[0m\u001b[0m\n\u001b[0m",
      "\u001b[1;31mNameError\u001b[0m: name 'dd' is not defined"
     ]
    }
   ],
   "source": []
  },
  {
   "cell_type": "code",
   "execution_count": null,
   "metadata": {},
   "outputs": [],
   "source": []
  }
 ],
 "metadata": {
  "kernelspec": {
   "display_name": "Python 3",
   "language": "python",
   "name": "python3"
  },
  "language_info": {
   "codemirror_mode": {
    "name": "ipython",
    "version": 3
   },
   "file_extension": ".py",
   "mimetype": "text/x-python",
   "name": "python",
   "nbconvert_exporter": "python",
   "pygments_lexer": "ipython3",
   "version": "3.7.0"
  }
 },
 "nbformat": 4,
 "nbformat_minor": 2
}
