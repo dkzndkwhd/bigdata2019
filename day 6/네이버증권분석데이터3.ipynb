{
 "cells": [
  {
   "cell_type": "code",
   "execution_count": 37,
   "metadata": {},
   "outputs": [],
   "source": [
    "# 인터넷 연결이 먼저\n",
    "# html 문서를 받아 와서 분석\n",
    "\n",
    "import urllib\n",
    "# or\n",
    "import requests\n",
    "from bs4 import BeautifulSoup # bs4 라이브러리 중에서 부티풀숩만 가져온다. "
   ]
  },
  {
   "cell_type": "code",
   "execution_count": 41,
   "metadata": {},
   "outputs": [],
   "source": [
    "def get_price(company_code) :\n",
    "    url = \"https://finance.naver.com/item/main.nhn?code=\" + company_code\n",
    "    #print(\"url : \",url )\n",
    "    \n",
    "    result = requests.get(url)\n",
    "    #print(\"result :\" , result)\n",
    "    \n",
    "    bs_obj = BeautifulSoup(result.content , \"html.parser\")\n",
    "    #print(\"html : \" , bs_obj)\n",
    "    \n",
    "    no_today = bs_obj.find(\"p\" , {\"class\" :  \"no_today\"})\n",
    "    \n",
    "    blind_now = no_today.find(\"span\" , {\"class\" : \"blind\"})\n",
    "    \n",
    " \n",
    "    # 전일 주가\n",
    "    all_td = bs_obj.find(\"td\" , {\"class\" : \"first\"})\n",
    "    first = all_td.find(\"span\" , {\"class\" : \"blind\"})\n",
    "    \n",
    "    # 시가\n",
    "    \n",
    "    \n",
    "    print(\"현재주가 :\" , blind_now.text , \"전일가\" , first.text)\n",
    "    \n",
    "    "
   ]
  },
  {
   "cell_type": "code",
   "execution_count": 42,
   "metadata": {},
   "outputs": [],
   "source": [
    "company_codes = [ \"035420\" , \"025980\" , \"017800\" , \"044340\" , \"043150\" ]"
   ]
  },
  {
   "cell_type": "code",
   "execution_count": null,
   "metadata": {},
   "outputs": [],
   "source": [
    "for codes in company_codes:\n",
    "    print(codes)"
   ]
  },
  {
   "cell_type": "code",
   "execution_count": null,
   "metadata": {},
   "outputs": [],
   "source": [
    "for codes in company_codes:\n",
    "    get_price(codes)"
   ]
  },
  {
   "cell_type": "code",
   "execution_count": null,
   "metadata": {},
   "outputs": [],
   "source": [
    "company_list = [\"네이버\" , \"아난티\" , \"현대엘리베이터\", \"위닉스\" , \"바텍\"]"
   ]
  },
  {
   "cell_type": "code",
   "execution_count": 43,
   "metadata": {},
   "outputs": [
    {
     "name": "stdout",
     "output_type": "stream",
     "text": [
      "네이버\n",
      "현재주가 : 133,000 전일가 138,500\n",
      "아난티\n",
      "현재주가 : 18,450 전일가 19,400\n",
      "현대엘리베이터\n",
      "현재주가 : 82,300 전일가 83,300\n",
      "위닉스\n",
      "현재주가 : 19,200 전일가 17,700\n",
      "바텍\n",
      "현재주가 : 23,250 전일가 23,950\n"
     ]
    }
   ],
   "source": [
    "i = 0\n",
    "for codes in company_codes:\n",
    "    while i <= 5:\n",
    "        print(company_list[i])\n",
    "        get_price(codes)\n",
    "        i+=1\n",
    "        break\n",
    "# 아니면 for 문 안에서 자체적으로 i 값을 증가시켜도 된다.\n",
    "        "
   ]
  },
  {
   "cell_type": "code",
   "execution_count": null,
   "metadata": {},
   "outputs": [],
   "source": []
  }
 ],
 "metadata": {
  "kernelspec": {
   "display_name": "Python 3",
   "language": "python",
   "name": "python3"
  },
  "language_info": {
   "codemirror_mode": {
    "name": "ipython",
    "version": 3
   },
   "file_extension": ".py",
   "mimetype": "text/x-python",
   "name": "python",
   "nbconvert_exporter": "python",
   "pygments_lexer": "ipython3",
   "version": "3.7.0"
  }
 },
 "nbformat": 4,
 "nbformat_minor": 2
}
