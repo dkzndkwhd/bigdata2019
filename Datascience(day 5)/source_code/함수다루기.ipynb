{
 "cells": [
  {
   "cell_type": "code",
   "execution_count": 4,
   "metadata": {},
   "outputs": [],
   "source": [
    "#파이선 함수 다루기\n",
    "# 함수 만들어서 호출해 보기"
   ]
  },
  {
   "cell_type": "code",
   "execution_count": 7,
   "metadata": {},
   "outputs": [],
   "source": [
    "def add():\n",
    "    print(\"나를 호출하셨군요\")"
   ]
  },
  {
   "cell_type": "code",
   "execution_count": 10,
   "metadata": {},
   "outputs": [],
   "source": [
    "def add2(x,y):\n",
    "    print(\"두 수의 합은 :\" , x+y)\n",
    "    "
   ]
  },
  {
   "cell_type": "code",
   "execution_count": 12,
   "metadata": {},
   "outputs": [
    {
     "name": "stdout",
     "output_type": "stream",
     "text": [
      "두 수의 합은 : 300\n"
     ]
    }
   ],
   "source": [
    "add2(100,200)"
   ]
  },
  {
   "cell_type": "code",
   "execution_count": 3,
   "metadata": {},
   "outputs": [],
   "source": [
    "def mathmatica(x,y,z):\n",
    "    if z == \"*\":\n",
    "        print(\"두 수의 곱은 : \", x*y)\n",
    "    elif z == \"+\":\n",
    "        print(\"두 수의 합은 : \", x+y)\n",
    "    elif z == \"-\":\n",
    "        print(\"두 수의 뺄셈은 :\", x-y)\n",
    "    elif z == \"/\":\n",
    "        print(\"두 수의 나눗셈의 몫은 :\", x/y)\n",
    "    elif z == \"%\":\n",
    "        print(\"두 수의 나눗셈의 나머지는 :\",x%y)"
   ]
  },
  {
   "cell_type": "code",
   "execution_count": 4,
   "metadata": {},
   "outputs": [
    {
     "name": "stdout",
     "output_type": "stream",
     "text": [
      "두 수의 나눗셈의 몫은 : 5.0\n"
     ]
    }
   ],
   "source": [
    "mathmatica(200,40,'/')"
   ]
  },
  {
   "cell_type": "code",
   "execution_count": null,
   "metadata": {},
   "outputs": [],
   "source": [
    "num1 = int(input(\"숫자 1 입력 :\"))\n",
    "num2 = int(input(\"숫자 2 입력 :\"))"
   ]
  },
  {
   "cell_type": "code",
   "execution_count": null,
   "metadata": {},
   "outputs": [],
   "source": [
    "oper = input(\"연산자를 입력하세요 :(+,-,x,/ 중 하나)\")"
   ]
  },
  {
   "cell_type": "code",
   "execution_count": 1,
   "metadata": {},
   "outputs": [
    {
     "data": {
      "text/plain": [
       "' ex) 음식점에서\\n계산을 했더니 5만원이 넘는다\\ntotal(인원수, 음식값)\\n\\n5만원이 넘으면 5000원 할인'"
      ]
     },
     "execution_count": 1,
     "metadata": {},
     "output_type": "execute_result"
    }
   ],
   "source": [
    "''' ex) 음식점에서\n",
    "계산을 했더니 5만원이 넘는다\n",
    "total(인원수, 음식값)\n",
    "\n",
    "5만원이 넘으면 5000원 할인'''"
   ]
  },
  {
   "cell_type": "code",
   "execution_count": 5,
   "metadata": {},
   "outputs": [],
   "source": [
    "def foodTotal(person) :\n",
    "    price = 5000\n",
    "    if person*price > 50000:\n",
    "        return person*price-5000\n",
    "    else :\n",
    "        return person*price"
   ]
  },
  {
   "cell_type": "code",
   "execution_count": 8,
   "metadata": {},
   "outputs": [
    {
     "data": {
      "text/plain": [
       "55000"
      ]
     },
     "execution_count": 8,
     "metadata": {},
     "output_type": "execute_result"
    }
   ],
   "source": [
    "foodTotal(12) # 반환깂이 있는 형태의 함수는 결과값을 변수에 넣어준다."
   ]
  },
  {
   "cell_type": "code",
   "execution_count": 16,
   "metadata": {},
   "outputs": [],
   "source": [
    "hobby = [\"승마\", \"달리기\", \"등산\" , \"먹기\"]"
   ]
  },
  {
   "cell_type": "code",
   "execution_count": 17,
   "metadata": {},
   "outputs": [],
   "source": [
    "hobby.append(\"As\")"
   ]
  },
  {
   "cell_type": "code",
   "execution_count": 18,
   "metadata": {},
   "outputs": [
    {
     "data": {
      "text/plain": [
       "['승마', '달리기', '등산', '먹기', 'As']"
      ]
     },
     "execution_count": 18,
     "metadata": {},
     "output_type": "execute_result"
    }
   ],
   "source": [
    "hobby"
   ]
  },
  {
   "cell_type": "code",
   "execution_count": 19,
   "metadata": {},
   "outputs": [],
   "source": [
    "#리스트-제어문 정리문제"
   ]
  },
  {
   "cell_type": "code",
   "execution_count": 20,
   "metadata": {},
   "outputs": [],
   "source": [
    "# 컨트롤 + /(자동 주석)"
   ]
  },
  {
   "cell_type": "code",
   "execution_count": 29,
   "metadata": {},
   "outputs": [],
   "source": [
    "email = [\"hera@naver.com\"]"
   ]
  },
  {
   "cell_type": "code",
   "execution_count": 22,
   "metadata": {},
   "outputs": [
    {
     "name": "stdout",
     "output_type": "stream",
     "text": [
      "이메일 입력 1asd@daum.net\n"
     ]
    }
   ],
   "source": [
    "data1 = input(\"이메일 입력 1\")"
   ]
  },
  {
   "cell_type": "code",
   "execution_count": 23,
   "metadata": {},
   "outputs": [
    {
     "name": "stdout",
     "output_type": "stream",
     "text": [
      "이메일 입력 2adf@adf.co.kr\n"
     ]
    }
   ],
   "source": [
    "data2 = input(\"이메일 입력 2\")"
   ]
  },
  {
   "cell_type": "code",
   "execution_count": 30,
   "metadata": {},
   "outputs": [],
   "source": [
    "email.append(data1)"
   ]
  },
  {
   "cell_type": "code",
   "execution_count": 31,
   "metadata": {},
   "outputs": [],
   "source": [
    "email.append(data2)"
   ]
  },
  {
   "cell_type": "code",
   "execution_count": 32,
   "metadata": {},
   "outputs": [
    {
     "data": {
      "text/plain": [
       "['hera@naver.com', 'asd@daum.net', 'adf@adf.co.kr']"
      ]
     },
     "execution_count": 32,
     "metadata": {},
     "output_type": "execute_result"
    }
   ],
   "source": [
    "email"
   ]
  },
  {
   "cell_type": "code",
   "execution_count": 34,
   "metadata": {},
   "outputs": [
    {
     "name": "stdout",
     "output_type": "stream",
     "text": [
      "닷컴회사이군요\n",
      "닷넷회사이군요\n",
      "한국이군요\n"
     ]
    }
   ],
   "source": [
    "for x in range(len(email)):\n",
    "    if email[x].endswith(\".com\"):\n",
    "        print(\"닷컴회사이군요\")\n",
    "    elif email[x].endswith(\".net\"):\n",
    "        print(\"닷넷회사이군요\")\n",
    "    elif email[x].endswith(\".co.kr\"):\n",
    "        print(\"한국이군요\")\n",
    "    else:\n",
    "        print(\"i don't know\")"
   ]
  },
  {
   "cell_type": "code",
   "execution_count": null,
   "metadata": {},
   "outputs": [],
   "source": []
  }
 ],
 "metadata": {
  "kernelspec": {
   "display_name": "Python 3",
   "language": "python",
   "name": "python3"
  },
  "language_info": {
   "codemirror_mode": {
    "name": "ipython",
    "version": 3
   },
   "file_extension": ".py",
   "mimetype": "text/x-python",
   "name": "python",
   "nbconvert_exporter": "python",
   "pygments_lexer": "ipython3",
   "version": "3.7.0"
  }
 },
 "nbformat": 4,
 "nbformat_minor": 2
}
